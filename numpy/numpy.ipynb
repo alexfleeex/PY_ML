{
 "cells": [
  {
   "cell_type": "code",
   "execution_count": 10,
   "id": "69a0577e",
   "metadata": {},
   "outputs": [
    {
     "data": {
      "text/plain": [
       "(3, 9)"
      ]
     },
     "execution_count": 10,
     "metadata": {},
     "output_type": "execute_result"
    }
   ],
   "source": [
    "import numpy as np\n",
    "a=np.array([range(1,10) for i in range(3)])"
   ]
  },
  {
   "cell_type": "code",
   "execution_count": 11,
   "id": "12433550",
   "metadata": {},
   "outputs": [
    {
     "data": {
      "text/plain": [
       "2"
      ]
     },
     "execution_count": 11,
     "metadata": {},
     "output_type": "execute_result"
    }
   ],
   "source": [
    "#число измерений\n",
    "a.ndim"
   ]
  },
  {
   "cell_type": "code",
   "execution_count": 13,
   "id": "99348c0e",
   "metadata": {},
   "outputs": [
    {
     "data": {
      "text/plain": [
       "(3, 9)"
      ]
     },
     "execution_count": 13,
     "metadata": {},
     "output_type": "execute_result"
    }
   ],
   "source": [
    "#размеры массива (кортеж)\n",
    "a.shape"
   ]
  },
  {
   "cell_type": "code",
   "execution_count": 16,
   "id": "b203e550",
   "metadata": {},
   "outputs": [
    {
     "data": {
      "text/plain": [
       "array([[1],\n",
       "       [2],\n",
       "       [3]])"
      ]
     },
     "execution_count": 16,
     "metadata": {},
     "output_type": "execute_result"
    }
   ],
   "source": [
    "#вектор-столбец\n",
    "col=np.array([[1], [2], [3]])\n",
    "col"
   ]
  },
  {
   "cell_type": "code",
   "execution_count": 19,
   "id": "b1dcd373",
   "metadata": {},
   "outputs": [
    {
     "data": {
      "text/plain": [
       "array([[0, 0, 0],\n",
       "       [0, 0, 0],\n",
       "       [0, 0, 0]])"
      ]
     },
     "execution_count": 19,
     "metadata": {},
     "output_type": "execute_result"
    }
   ],
   "source": [
    "np.zeros((3,3),dtype='int')"
   ]
  },
  {
   "cell_type": "code",
   "execution_count": 23,
   "id": "b26fc97f",
   "metadata": {},
   "outputs": [
    {
     "data": {
      "text/plain": [
       "array([0.1, 0.2, 0.3, 0.4])"
      ]
     },
     "execution_count": 23,
     "metadata": {},
     "output_type": "execute_result"
    }
   ],
   "source": [
    "np.arange(0.1,0.5,0.1)"
   ]
  },
  {
   "cell_type": "code",
   "execution_count": 10,
   "id": "4731682e",
   "metadata": {},
   "outputs": [
    {
     "data": {
      "text/plain": [
       "array([-1.240625, -1.18125 , -1.121875, -1.0625  , -1.003125, -0.94375 ,\n",
       "       -0.884375, -0.825   , -0.765625, -0.70625 , -0.646875, -0.5875  ,\n",
       "       -0.528125, -0.46875 , -0.409375, -0.35    , -0.290625, -0.23125 ,\n",
       "       -0.171875, -0.1125  , -0.053125,  0.00625 ,  0.065625,  0.125   ,\n",
       "        0.184375,  0.24375 ,  0.303125,  0.3625  ,  0.421875,  0.48125 ,\n",
       "        0.540625,  0.6     ,  0.659375,  0.71875 ,  0.778125,  0.8375  ,\n",
       "        0.896875,  0.95625 ,  1.015625,  1.075   ,  1.134375,  1.19375 ,\n",
       "        1.253125,  1.3125  ,  1.371875,  1.43125 ,  1.490625,  1.55    ,\n",
       "        1.609375,  1.66875 ,  1.728125,  1.7875  ,  1.846875,  1.90625 ,\n",
       "        1.965625,  2.025   ,  2.084375,  2.14375 ,  2.203125,  2.2625  ,\n",
       "        2.321875,  2.38125 ])"
      ]
     },
     "execution_count": 10,
     "metadata": {},
     "output_type": "execute_result"
    }
   ],
   "source": [
    "import numpy as np\n",
    "a=np.arange(-1.3+(1.3+2.5)/64, 2.5-(1.3+2.5)/64, (1.3+2.5)/64)\n",
    "a\n",
    "# len(a)"
   ]
  },
  {
   "cell_type": "code",
   "execution_count": 21,
   "id": "f81ccb75",
   "metadata": {},
   "outputs": [
    {
     "name": "stdout",
     "output_type": "stream",
     "text": [
      "Input n: 12\n"
     ]
    },
    {
     "data": {
      "text/plain": [
       "array([1, 2, 3, 1, 2, 3, 1, 2, 3, 1, 2, 3, 1, 2, 3, 1, 2, 3, 1, 2, 3, 1,\n",
       "       2, 3, 1, 2, 3, 1, 2, 3, 1, 2, 3, 1, 2, 3])"
      ]
     },
     "execution_count": 21,
     "metadata": {},
     "output_type": "execute_result"
    }
   ],
   "source": [
    "import numpy as np\n",
    "a=np.array([], dtype=int)\n",
    "n=int(input('Input n: '))\n",
    "np.append(a, [1, 2, 3]*n**2)[:3*n]\n",
    "\n",
    "#2 вариант\n",
    "#import numpy as np\n",
    "#n=int(input('Input n: '))\n",
    "# np.array([1,2,3]*n)"
   ]
  },
  {
   "cell_type": "code",
   "execution_count": 7,
   "id": "78f5def3",
   "metadata": {},
   "outputs": [
    {
     "data": {
      "text/plain": [
       "array([[1., 1., 1., 1., 1., 1., 1., 1., 1., 1.],\n",
       "       [1., 0., 0., 0., 0., 0., 0., 0., 0., 1.],\n",
       "       [1., 0., 0., 0., 0., 0., 0., 0., 0., 1.],\n",
       "       [1., 0., 0., 0., 0., 0., 0., 0., 0., 1.],\n",
       "       [1., 0., 0., 0., 0., 0., 0., 0., 0., 1.],\n",
       "       [1., 0., 0., 0., 0., 0., 0., 0., 0., 1.],\n",
       "       [1., 0., 0., 0., 0., 0., 0., 0., 0., 1.],\n",
       "       [1., 0., 0., 0., 0., 0., 0., 0., 0., 1.],\n",
       "       [1., 0., 0., 0., 0., 0., 0., 0., 0., 1.],\n",
       "       [1., 1., 1., 1., 1., 1., 1., 1., 1., 1.]])"
      ]
     },
     "execution_count": 7,
     "metadata": {},
     "output_type": "execute_result"
    }
   ],
   "source": [
    "import numpy as np\n",
    "a=np.zeros((10,10))\n",
    "a[[0,-1]], a[:,[0,-1]] = 1, 1\n",
    "# a[:,[0,-1]]=1\n",
    "a"
   ]
  },
  {
   "cell_type": "code",
   "execution_count": 17,
   "id": "60d1e9a6",
   "metadata": {},
   "outputs": [
    {
     "data": {
      "text/plain": [
       "array([[0, 1, 0, 1, 0, 1, 0, 1],\n",
       "       [1, 0, 1, 0, 1, 0, 1, 0],\n",
       "       [0, 1, 0, 1, 0, 1, 0, 1],\n",
       "       [1, 0, 1, 0, 1, 0, 1, 0],\n",
       "       [0, 1, 0, 1, 0, 1, 0, 1],\n",
       "       [1, 0, 1, 0, 1, 0, 1, 0],\n",
       "       [0, 1, 0, 1, 0, 1, 0, 1],\n",
       "       [1, 0, 1, 0, 1, 0, 1, 0]])"
      ]
     },
     "execution_count": 17,
     "metadata": {},
     "output_type": "execute_result"
    }
   ],
   "source": [
    "import numpy as np\n",
    "a=np.tile([[0,1], [1,0]],[4,4])\n",
    "a"
   ]
  },
  {
   "cell_type": "code",
   "execution_count": 28,
   "id": "67dfec0d",
   "metadata": {},
   "outputs": [
    {
     "data": {
      "text/plain": [
       "array([[126, 198, 202, 141, 234, 181, 156, 233, 196, 220],\n",
       "       [223, 200, 304, 193, 237, 172, 192, 273, 249, 243],\n",
       "       [172, 167, 273, 159, 196, 163, 167, 241, 226, 230],\n",
       "       [105, 166, 244, 139, 227, 207, 168, 272, 215, 263],\n",
       "       [229, 253, 272, 214, 281, 195, 212, 280, 276, 258],\n",
       "       [251, 220, 302, 223, 251, 154, 208, 285, 246, 242],\n",
       "       [236, 240, 311, 210, 251, 230, 223, 317, 251, 300],\n",
       "       [210, 204, 285, 205, 196, 187, 176, 231, 256, 249],\n",
       "       [266, 254, 356, 240, 255, 250, 240, 359, 251, 314],\n",
       "       [153, 140, 202, 147, 259, 117, 166, 220, 219, 203]])"
      ]
     },
     "execution_count": 28,
     "metadata": {},
     "output_type": "execute_result"
    }
   ],
   "source": [
    "import numpy as np\n",
    "np.dot(2,2) #умножение скаляров\n",
    "\n",
    "np.dot(2,np.array([5,4,3,2,1])) #произведение вектора и скаляра\n",
    "\n",
    "A=np.arange(10)\n",
    "B=np.arange(4,14)\n",
    "C=np.random.randint(10, size=(10,10))\n",
    "D=np.random.randint(10, size=(10,10))\n",
    "\n",
    "np.dot(A,B) #скалярное произведение\n",
    "\n",
    "np.dot(A,C) # умножение матриц\n",
    "\n",
    "np.dot(C,D) #умножение матриц"
   ]
  },
  {
   "cell_type": "code",
   "execution_count": 48,
   "id": "997d520c",
   "metadata": {},
   "outputs": [
    {
     "data": {
      "text/html": [
       "<div>\n",
       "<style scoped>\n",
       "    .dataframe tbody tr th:only-of-type {\n",
       "        vertical-align: middle;\n",
       "    }\n",
       "\n",
       "    .dataframe tbody tr th {\n",
       "        vertical-align: top;\n",
       "    }\n",
       "\n",
       "    .dataframe thead th {\n",
       "        text-align: right;\n",
       "    }\n",
       "</style>\n",
       "<table border=\"1\" class=\"dataframe\">\n",
       "  <thead>\n",
       "    <tr style=\"text-align: right;\">\n",
       "      <th></th>\n",
       "      <th>sin</th>\n",
       "      <th>cos</th>\n",
       "    </tr>\n",
       "  </thead>\n",
       "  <tbody>\n",
       "    <tr>\n",
       "      <th>0.00</th>\n",
       "      <td>0.000000</td>\n",
       "      <td>1.000000</td>\n",
       "    </tr>\n",
       "    <tr>\n",
       "      <th>0.05</th>\n",
       "      <td>0.049979</td>\n",
       "      <td>0.998750</td>\n",
       "    </tr>\n",
       "    <tr>\n",
       "      <th>0.10</th>\n",
       "      <td>0.099833</td>\n",
       "      <td>0.995004</td>\n",
       "    </tr>\n",
       "    <tr>\n",
       "      <th>0.15</th>\n",
       "      <td>0.149438</td>\n",
       "      <td>0.988771</td>\n",
       "    </tr>\n",
       "    <tr>\n",
       "      <th>0.20</th>\n",
       "      <td>0.198669</td>\n",
       "      <td>0.980067</td>\n",
       "    </tr>\n",
       "    <tr>\n",
       "      <th>0.25</th>\n",
       "      <td>0.247404</td>\n",
       "      <td>0.968912</td>\n",
       "    </tr>\n",
       "    <tr>\n",
       "      <th>0.30</th>\n",
       "      <td>0.295520</td>\n",
       "      <td>0.955336</td>\n",
       "    </tr>\n",
       "    <tr>\n",
       "      <th>0.35</th>\n",
       "      <td>0.342898</td>\n",
       "      <td>0.939373</td>\n",
       "    </tr>\n",
       "    <tr>\n",
       "      <th>0.40</th>\n",
       "      <td>0.389418</td>\n",
       "      <td>0.921061</td>\n",
       "    </tr>\n",
       "    <tr>\n",
       "      <th>0.45</th>\n",
       "      <td>0.434966</td>\n",
       "      <td>0.900447</td>\n",
       "    </tr>\n",
       "    <tr>\n",
       "      <th>0.50</th>\n",
       "      <td>0.479426</td>\n",
       "      <td>0.877583</td>\n",
       "    </tr>\n",
       "    <tr>\n",
       "      <th>0.55</th>\n",
       "      <td>0.522687</td>\n",
       "      <td>0.852525</td>\n",
       "    </tr>\n",
       "    <tr>\n",
       "      <th>0.60</th>\n",
       "      <td>0.564642</td>\n",
       "      <td>0.825336</td>\n",
       "    </tr>\n",
       "    <tr>\n",
       "      <th>0.65</th>\n",
       "      <td>0.605186</td>\n",
       "      <td>0.796084</td>\n",
       "    </tr>\n",
       "    <tr>\n",
       "      <th>0.70</th>\n",
       "      <td>0.644218</td>\n",
       "      <td>0.764842</td>\n",
       "    </tr>\n",
       "    <tr>\n",
       "      <th>0.75</th>\n",
       "      <td>0.681639</td>\n",
       "      <td>0.731689</td>\n",
       "    </tr>\n",
       "    <tr>\n",
       "      <th>0.80</th>\n",
       "      <td>0.717356</td>\n",
       "      <td>0.696707</td>\n",
       "    </tr>\n",
       "    <tr>\n",
       "      <th>0.85</th>\n",
       "      <td>0.751280</td>\n",
       "      <td>0.659983</td>\n",
       "    </tr>\n",
       "    <tr>\n",
       "      <th>0.90</th>\n",
       "      <td>0.783327</td>\n",
       "      <td>0.621610</td>\n",
       "    </tr>\n",
       "    <tr>\n",
       "      <th>0.95</th>\n",
       "      <td>0.813416</td>\n",
       "      <td>0.581683</td>\n",
       "    </tr>\n",
       "  </tbody>\n",
       "</table>\n",
       "</div>"
      ],
      "text/plain": [
       "           sin       cos\n",
       "0.00  0.000000  1.000000\n",
       "0.05  0.049979  0.998750\n",
       "0.10  0.099833  0.995004\n",
       "0.15  0.149438  0.988771\n",
       "0.20  0.198669  0.980067\n",
       "0.25  0.247404  0.968912\n",
       "0.30  0.295520  0.955336\n",
       "0.35  0.342898  0.939373\n",
       "0.40  0.389418  0.921061\n",
       "0.45  0.434966  0.900447\n",
       "0.50  0.479426  0.877583\n",
       "0.55  0.522687  0.852525\n",
       "0.60  0.564642  0.825336\n",
       "0.65  0.605186  0.796084\n",
       "0.70  0.644218  0.764842\n",
       "0.75  0.681639  0.731689\n",
       "0.80  0.717356  0.696707\n",
       "0.85  0.751280  0.659983\n",
       "0.90  0.783327  0.621610\n",
       "0.95  0.813416  0.581683"
      ]
     },
     "execution_count": 48,
     "metadata": {},
     "output_type": "execute_result"
    }
   ],
   "source": [
    "import numpy as np\n",
    "import pandas as pd\n",
    "\n",
    "s=np.sin(np.arange(0,1,0.05))\n",
    "\n",
    "c=np.cos(np.arange(0,1,0.05))\n",
    "\n",
    "df=pd.DataFrame({'sin': s, 'cos': c}, index=np.arange(0,1,0.05))\n",
    "df"
   ]
  },
  {
   "cell_type": "code",
   "execution_count": 51,
   "id": "af3f3288",
   "metadata": {},
   "outputs": [
    {
     "data": {
      "text/plain": [
       "array([[0.42238091, 0.44503318, 0.846327  , 0.7260353 , 0.76396204],\n",
       "       [0.63981997, 0.8759356 , 0.78109735, 0.95937773, 0.48737038],\n",
       "       [0.01351812, 0.6278712 , 0.74718675, 0.66222775, 0.06340399]])"
      ]
     },
     "execution_count": 51,
     "metadata": {},
     "output_type": "execute_result"
    }
   ],
   "source": [
    "import numpy as np\n",
    "np.random.rand(3,5)"
   ]
  },
  {
   "cell_type": "code",
   "execution_count": 61,
   "id": "37d00c95",
   "metadata": {},
   "outputs": [
    {
     "data": {
      "text/plain": [
       "array([0.66666667, 0.66666667, 0.66666667])"
      ]
     },
     "execution_count": 61,
     "metadata": {},
     "output_type": "execute_result"
    }
   ],
   "source": [
    "import numpy as np\n",
    "a=np.array([[1,2,3],[3,4,5],[6,7,8]])\n",
    "a.sum(axis=0) #сумма по столбцам\n",
    "a.sum(axis=1) #сумма по строкам\n",
    "a.sum() #сумма всех элементов\n",
    "a.mean(axis=1) #построчное среднее значение\n",
    "a.var(axis=1) # построчная дисперсия\n",
    "a.std(axis=1) #построчное стандартное отклонение"
   ]
  },
  {
   "cell_type": "code",
   "execution_count": 2,
   "id": "30c5e175",
   "metadata": {},
   "outputs": [
    {
     "data": {
      "text/plain": [
       "array([[ 1.37281295, -2.74562589, -2.59554274],\n",
       "       [ 3.13785816, -0.39223227, -1.62221421],\n",
       "       [ 2.54950976, -0.39223227,  1.29777137]])"
      ]
     },
     "execution_count": 2,
     "metadata": {},
     "output_type": "execute_result"
    }
   ],
   "source": [
    "import numpy as np\n",
    "a=np.random.randint(10, size=(3,3))\n",
    "(a-a.mean(axis=1)) / a.std(axis=1)"
   ]
  },
  {
   "cell_type": "code",
   "execution_count": 23,
   "id": "a049acd0",
   "metadata": {},
   "outputs": [
    {
     "name": "stdout",
     "output_type": "stream",
     "text": [
      "Input array:\n",
      "[[7 1 2]\n",
      " [9 8 8]\n",
      " [2 6 7]]\n",
      "New array:\n",
      "[[7 1 2]\n",
      " [9 8 7]\n",
      " [2 6 8]]\n"
     ]
    }
   ],
   "source": [
    "import numpy as np\n",
    "\n",
    "a=np.random.randint(10, size=(3,3))\n",
    "print(\"Input array:\", a, sep='\\n')\n",
    "\n",
    "a[:, 2]=a[:, 2][np.argsort(a[:, 2])]\n",
    "print(\"New array:\", a, sep='\\n')"
   ]
  },
  {
   "cell_type": "code",
   "execution_count": 38,
   "id": "ea9c6e34",
   "metadata": {},
   "outputs": [
    {
     "name": "stdout",
     "output_type": "stream",
     "text": [
      "Matrix A:\n",
      "[[2 7 8 2 2]\n",
      " [6 3 7 6 0]\n",
      " [5 4 6 6 9]\n",
      " [4 9 2 5 1]]\n",
      "\n",
      "Matrix B:\n",
      "[[ 81  88  96  90  53]\n",
      " [ 88 155 119 101  59]\n",
      " [ 96 119 153 104  72]\n",
      " [ 90 101 104 101  63]\n",
      " [ 53  59  72  63  86]]\n",
      "\n",
      "Matrix С:\n",
      "[[125 101 116  99]\n",
      " [101 130 120  95]\n",
      " [116 120 194 107]\n",
      " [ 99  95 107 127]]\n",
      "\n",
      "матрицы не равны\n"
     ]
    }
   ],
   "source": [
    "import numpy as np\n",
    "\n",
    "A=np.random.randint(10, size=(4,5))\n",
    "print(\"Matrix A:\", A, sep='\\n', end='\\n\\n')\n",
    "\n",
    "B=np.dot(A.T, A)\n",
    "print(\"Matrix B:\", B, sep='\\n', end='\\n'*2)\n",
    "\n",
    "C=np.dot(A, A.T)\n",
    "print(\"Matrix С:\", C, sep='\\n', end='\\n'*2)\n",
    "\n",
    "print('матрицы равны' if (B.shape==C.shape and B==C) else 'матрицы не равны')"
   ]
  },
  {
   "cell_type": "code",
   "execution_count": 42,
   "id": "c2967f36",
   "metadata": {},
   "outputs": [
    {
     "data": {
      "text/plain": [
       "array([ 5, 12, 15, 10, 11])"
      ]
     },
     "execution_count": 42,
     "metadata": {},
     "output_type": "execute_result"
    }
   ],
   "source": [
    "import numpy as np\n",
    "\n",
    "A=np.random.randint(10, size=(5,5))\n",
    "B=np.random.randint(10, size=(5,5))\n",
    "print(A)\n",
    "np.diag(A)+np.diag(B)"
   ]
  },
  {
   "cell_type": "code",
   "execution_count": 10,
   "id": "a638ebac",
   "metadata": {},
   "outputs": [
    {
     "name": "stdout",
     "output_type": "stream",
     "text": [
      "[[1 0 1]\n",
      " [9 8 5]\n",
      " [6 0 3]]\n",
      "Определитель A: -24\n",
      "\n",
      "Ранг матрицы A: 3\n",
      "\n",
      "Спектр матрицы:\n",
      " [[-1.          0.          0.33333333]\n",
      " [-0.125       0.125      -0.16666667]\n",
      " [ 2.          0.         -0.33333333]]\n"
     ]
    }
   ],
   "source": [
    "import numpy as np\n",
    "\n",
    "A=np.random.randint(10, size=(3,3))\n",
    "print(A)\n",
    "print(f\"Определитель A: {int(np.linalg.det(A))}\", end='\\n'*2)\n",
    "print(f\"Ранг матрицы A: {np.linalg.matrix_rank(A)}\", end='\\n'*2)\n",
    "print(f\"Спектр матрицы:\\n {np.linalg.inv(A)}\")"
   ]
  },
  {
   "cell_type": "code",
   "execution_count": 24,
   "id": "7c419e89",
   "metadata": {},
   "outputs": [
    {
     "name": "stdout",
     "output_type": "stream",
     "text": [
      "Введите пределы интегрирования: 1 2\n",
      "Примерное значение интеграла: -3281.6642623478324\n"
     ]
    }
   ],
   "source": [
    "import numpy as np\n",
    "\n",
    "def foo(x):\n",
    "    return (x**2+3)/(x-2)\n",
    "\n",
    "def create_array(a,b):\n",
    "    return np.arange(a,b,0.01)\n",
    "\n",
    "def main():\n",
    "    try:\n",
    "        a,b=map(int, input(\"Введите пределы интегрирования: \").split())\n",
    "    except:\n",
    "        print(\"Некорректно-введенные \")\n",
    "    else:\n",
    "        print(f\"Примерное значение интеграла: {foo(create_array(a,b)).sum()}\")\n",
    "\n",
    "# a=create_array(1,2)\n",
    "# foo(a).sum()\n",
    "main()"
   ]
  },
  {
   "cell_type": "code",
   "execution_count": null,
   "id": "17b120df",
   "metadata": {},
   "outputs": [],
   "source": []
  }
 ],
 "metadata": {
  "kernelspec": {
   "display_name": "Python 3 (ipykernel)",
   "language": "python",
   "name": "python3"
  },
  "language_info": {
   "codemirror_mode": {
    "name": "ipython",
    "version": 3
   },
   "file_extension": ".py",
   "mimetype": "text/x-python",
   "name": "python",
   "nbconvert_exporter": "python",
   "pygments_lexer": "ipython3",
   "version": "3.9.0"
  }
 },
 "nbformat": 4,
 "nbformat_minor": 5
}
